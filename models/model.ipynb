{
 "cells": [
  {
   "cell_type": "code",
   "execution_count": 1,
   "metadata": {},
   "outputs": [],
   "source": [
    "import numpy as np\n",
    "from multiprocessing import Pool\n",
    "from functools import partial\n",
    "from contextlib import contextmanager\n",
    "\n",
    "from pyspark.sql import SparkSession \n",
    "from pyspark.sql.types import *"
   ]
  },
  {
   "cell_type": "code",
   "execution_count": 2,
   "metadata": {},
   "outputs": [
    {
     "name": "stdout",
     "output_type": "stream",
     "text": [
      "root\n",
      " |-- USPS: string (nullable = true)\n",
      " |-- GEOID: integer (nullable = true)\n",
      " |-- ANSICODE: integer (nullable = true)\n",
      " |-- NAME: string (nullable = true)\n",
      " |-- ALAND: long (nullable = true)\n",
      " |-- AWATER: long (nullable = true)\n",
      " |-- ALAND_SQMI: double (nullable = true)\n",
      " |-- AWATER_SQMI: double (nullable = true)\n",
      " |-- INTPTLAT: double (nullable = true)\n",
      " |-- INTPTLONG: double (nullable = true)\n",
      "\n",
      "root\n",
      " |-- threat_id: integer (nullable = true)\n",
      " |-- src_city: string (nullable = true)\n",
      " |-- dst_city: string (nullable = true)\n",
      " |-- src_state: string (nullable = true)\n",
      " |-- dst_state: string (nullable = true)\n",
      " |-- src_country: string (nullable = true)\n",
      " |-- dst_country: string (nullable = true)\n",
      " |-- src_longitude: double (nullable = true)\n",
      " |-- dst_longitude: double (nullable = true)\n",
      " |-- src_latitude: double (nullable = true)\n",
      " |-- dst_latitude: double (nullable = true)\n",
      " |-- atk_time: integer (nullable = true)\n",
      " |-- atk_type: string (nullable = true)\n",
      " |-- atk_name: string (nullable = true)\n",
      "\n",
      "root\n",
      " |-- id: integer (nullable = true)\n",
      " |-- product: string (nullable = true)\n",
      " |-- hash: integer (nullable = true)\n",
      " |-- ip: long (nullable = true)\n",
      " |-- org: string (nullable = true)\n",
      " |-- port: integer (nullable = true)\n",
      " |-- transport: string (nullable = true)\n",
      " |-- isp: string (nullable = true)\n",
      " |-- time: timestamp (nullable = true)\n",
      " |-- ip_str: string (nullable = true)\n",
      " |-- id_2: integer (nullable = true)\n",
      " |-- longtitude: double (nullable = true)\n",
      " |-- latitude: double (nullable = true)\n",
      " |-- country_code: string (nullable = true)\n",
      " |-- country_code_3: string (nullable = true)\n",
      " |-- country_name: string (nullable = true)\n",
      " |-- city: string (nullable = true)\n",
      " |-- postal_code: integer (nullable = true)\n",
      " |-- region_code: string (nullable = true)\n",
      " |-- area_code: integer (nullable = true)\n",
      " |-- dma_code: integer (nullable = true)\n",
      "\n"
     ]
    }
   ],
   "source": [
    "gazze_file = \"2018_Gaz_counties_national.csv\"\n",
    "threat_loc_file = \"checkpoint_threat.csv\"\n",
    "shodan_file = \"stream-2000.csv\"\n",
    "\n",
    "spss = SparkSession.builder\\\n",
    "    .master('local[*]')\\\n",
    "    .appName(\"sec_lab_4\")\\\n",
    "    .getOrCreate()\n",
    "\n",
    "ga_sppd = spss.read.csv(gazze_file, inferSchema=True, header=True)\n",
    "threat_sppd = spss.read.csv(threat_loc_file, inferSchema=True, header=True)\n",
    "shodan_sppd = spss.read.csv(shodan_file, inferSchema=True, header=True)\n",
    "\n",
    "ga_sppd.printSchema()\n",
    "threat_sppd.printSchema()\n",
    "shodan_sppd.printSchema()"
   ]
  },
  {
   "cell_type": "code",
   "execution_count": 3,
   "metadata": {},
   "outputs": [],
   "source": [
    "#drop useless column and fill na\n",
    "threat_sppd = threat_sppd.drop('atk_type')\n",
    "threat_sppd = threat_sppd.fillna('na')\n"
   ]
  },
  {
   "cell_type": "code",
   "execution_count": 4,
   "metadata": {},
   "outputs": [
    {
     "data": {
      "text/plain": [
       "0"
      ]
     },
     "execution_count": 4,
     "metadata": {},
     "output_type": "execute_result"
    }
   ],
   "source": [
    "threat_sppd.filter(threat_sppd.dst_latitude.isNull()).count()\n",
    "threat_sppd.filter(threat_sppd.dst_longitude.isNull()).count()"
   ]
  },
  {
   "cell_type": "code",
   "execution_count": 5,
   "metadata": {
    "scrolled": true
   },
   "outputs": [
    {
     "data": {
      "text/plain": [
       "1394"
      ]
     },
     "execution_count": 5,
     "metadata": {},
     "output_type": "execute_result"
    }
   ],
   "source": [
    "shodan_sppd = shodan_sppd.filter(shodan_sppd.ip.isNotNull())\n",
    "shodan_sppd = shodan_sppd.filter(shodan_sppd.longtitude.isNotNull())\n",
    "shodan_sppd = shodan_sppd.filter(shodan_sppd.latitude.isNotNull())\n",
    "shodan_sppd.count()"
   ]
  },
  {
   "cell_type": "code",
   "execution_count": 6,
   "metadata": {},
   "outputs": [],
   "source": [
    "def distance(instance1, instance2):\n",
    "    # just in case, if the instances are lists or tuples:\n",
    "    instance1 = np.array(instance1) \n",
    "    instance2 = np.array(instance2)\n",
    "    error = np.square(instance1 - instance2)\n",
    "    return np.sqrt(np.sum(error))\n",
    "\n",
    "def get_neighbors(test_instance,\n",
    "                  training_set,\n",
    "                  distance=distance):\n",
    "    \"\"\"\n",
    "    get_neighors calculates a list of the k nearest neighbors\n",
    "    of an instance 'test_instance'.\n",
    "    The list neighbors contains 3-tuples with  \n",
    "    (index, dist, label)\n",
    "    where \n",
    "    index    is the index from the training_set, \n",
    "    dist     is the distance between the test_instance and the \n",
    "             instance training_set[index]\n",
    "    distance is a reference to a function used to calculate the \n",
    "             distances\n",
    "    \"\"\"\n",
    "    k=1\n",
    "    distances = []\n",
    "    for index in range(len(training_set)):\n",
    "        dist = distance(test_instance, training_set[index, 1:])\n",
    "        distances.append((training_set[index], dist))\n",
    "    distances.sort(key=lambda x: x[1])\n",
    "    neighbors = distances[:k]\n",
    "    return neighbors\n",
    "\n",
    "@contextmanager\n",
    "def poolcontext(*args, **kwargs):\n",
    "    pool = Pool(*args, **kwargs)\n",
    "    yield pool\n",
    "    pool.terminate()"
   ]
  },
  {
   "cell_type": "code",
   "execution_count": 7,
   "metadata": {},
   "outputs": [
    {
     "name": "stdout",
     "output_type": "stream",
     "text": [
      "14143\n"
     ]
    }
   ],
   "source": [
    "threat_pd = threat_sppd.toPandas()\n",
    "threat_pd = threat_pd.loc[threat_pd['dst_country'] == 'United States']\n",
    "\n",
    "shodan_pd = shodan_sppd.toPandas()\n",
    "\n",
    "train = np.array(shodan_pd[['id', 'latitude', 'longtitude']])\n",
    "test = np.array(threat_pd[['dst_latitude', 'dst_longitude']])\n",
    "\n",
    "\n",
    "#the get neighbors will return in index, latitude, longitude;\n",
    "#create\n",
    "with poolcontext(processes=4) as pool:\n",
    "    results = pool.map(partial(get_neighbors, training_set = train), test)\n",
    "\n",
    "print(len(results))\n",
    "    "
   ]
  },
  {
   "cell_type": "code",
   "execution_count": null,
   "metadata": {},
   "outputs": [],
   "source": []
  },
  {
   "cell_type": "code",
   "execution_count": 8,
   "metadata": {},
   "outputs": [
    {
     "name": "stdout",
     "output_type": "stream",
     "text": [
      "(109, 21)\n"
     ]
    }
   ],
   "source": [
    "def get_shodan_threat(oneResult):\n",
    "    return oneResult[0][0][0]\n",
    "\n",
    "with poolcontext(processes=4) as pool:\n",
    "    shodan_threat_index = pool.map(get_shodan_threat, results)\n",
    "\n",
    "shodan_threat_banner = shodan_pd[shodan_pd['id'].isin(shodan_threat_index)]\n",
    "shodan_threat_banner.to_csv('shodan_threat_banner.csv')\n",
    "print(shodan_threat_banner.shape)"
   ]
  },
  {
   "cell_type": "code",
   "execution_count": 9,
   "metadata": {},
   "outputs": [
    {
     "name": "stderr",
     "output_type": "stream",
     "text": [
      "/home/hvoid/anaconda2/lib/python2.7/site-packages/sklearn/cross_validation.py:41: DeprecationWarning: This module was deprecated in version 0.18 in favor of the model_selection module into which all the refactored classes and functions are moved. Also note that the interface of the new CV iterators are different from that of this module. This module will be removed in 0.20.\n",
      "  \"This module will be removed in 0.20.\", DeprecationWarning)\n",
      "/home/hvoid/anaconda2/lib/python2.7/site-packages/ipykernel_launcher.py:12: SettingWithCopyWarning: \n",
      "A value is trying to be set on a copy of a slice from a DataFrame.\n",
      "Try using .loc[row_indexer,col_indexer] = value instead\n",
      "\n",
      "See the caveats in the documentation: http://pandas.pydata.org/pandas-docs/stable/indexing.html#indexing-view-versus-copy\n",
      "  if sys.path[0] == '':\n",
      "/home/hvoid/anaconda2/lib/python2.7/site-packages/ipykernel_launcher.py:13: SettingWithCopyWarning: \n",
      "A value is trying to be set on a copy of a slice from a DataFrame.\n",
      "Try using .loc[row_indexer,col_indexer] = value instead\n",
      "\n",
      "See the caveats in the documentation: http://pandas.pydata.org/pandas-docs/stable/indexing.html#indexing-view-versus-copy\n",
      "  del sys.path[0]\n"
     ]
    },
    {
     "name": "stdout",
     "output_type": "stream",
     "text": [
      "port                int32\n",
      "longtitude        float64\n",
      "latitude          float64\n",
      "threat              int64\n",
      "product             int64\n",
      "ip_str              int64\n",
      "org                 int64\n",
      "transport           int64\n",
      "isp                 int64\n",
      "country_code_3      int64\n",
      "postal_code         int64\n",
      "dma_code            int64\n",
      "area_code           int64\n",
      "dtype: object\n",
      "1.0\n",
      "0.9210989469294131\n",
      "0.9203846612151272\n",
      "0.9218094815253317\n"
     ]
    }
   ],
   "source": [
    "from sklearn.ensemble import RandomForestClassifier\n",
    "from sklearn.neighbors import KNeighborsClassifier\n",
    "from sklearn.linear_model import LogisticRegression\n",
    "from sklearn.svm import SVC\n",
    "from sklearn.externals import joblib\n",
    "from sklearn.cross_validation import cross_val_score\n",
    "from sklearn import preprocessing\n",
    "import pandas\n",
    "\n",
    "\n",
    "shodan_not_threat_pd = shodan_pd[~shodan_pd['id'].isin(shodan_threat_index)]\n",
    "shodan_not_threat_pd['threat'] = pandas.Series(0, index=shodan_not_threat_pd.index)\n",
    "shodan_threat_banner['threat'] = pandas.Series(1, index=shodan_threat_banner.index)\n",
    "shodan_threat_banner = shodan_threat_banner.append(shodan_not_threat_pd)\n",
    "\n",
    "\n",
    "\n",
    "shodan_threat_banner_en = shodan_threat_banner[['product', 'ip_str', 'org',  \n",
    "                      'transport', 'isp',\n",
    "                      'country_code_3', 'postal_code', 'dma_code', 'area_code',]]\n",
    "\n",
    "shodan_tmp = shodan_threat_banner[['port','longtitude', 'latitude', 'threat']]\n",
    "le = preprocessing.LabelEncoder()\n",
    "shodan_threat_banner_en = shodan_threat_banner_en.apply(le.fit_transform)\n",
    "shodan_threat_banner = shodan_tmp.join(shodan_threat_banner_en)\n",
    "\n",
    "print(shodan_threat_banner.dtypes)\n",
    "shodan_threat_banner = shodan_threat_banner.sample(frac=1).reset_index(drop=True)\n",
    "shodan_train_np_X = np.array(shodan_threat_banner)\n",
    "shodan_train_y = np.array(shodan_threat_banner['threat'])\n",
    "\n",
    "randF = RandomForestClassifier(n_estimators=600, max_depth=15, min_samples_leaf=2)\n",
    "knnF = KNeighborsClassifier()\n",
    "logReg = LogisticRegression(random_state=0, solver='lbfgs',multi_class='multinomial')\n",
    "svm_clf = SVC(gamma='auto')\n",
    "\n",
    "# shodan_threat_banner.to_csv('shodan_threat_banner_ml.csv')\n",
    "print(cross_val_score(randF, shodan_train_np_X, shodan_train_y, cv=10).mean())\n",
    "print(cross_val_score(knnF, shodan_train_np_X, shodan_train_y, cv=10).mean())\n",
    "print(cross_val_score(logReg, shodan_train_np_X, shodan_train_y, cv=10).mean())\n",
    "print(cross_val_score(svm_clf, shodan_train_np_X, shodan_train_y, cv=3).mean())\n"
   ]
  },
  {
   "cell_type": "code",
   "execution_count": 15,
   "metadata": {},
   "outputs": [
    {
     "data": {
      "text/plain": [
       "['logReg.sav']"
      ]
     },
     "execution_count": 15,
     "metadata": {},
     "output_type": "execute_result"
    }
   ],
   "source": [
    "randF.fit(shodan_train_np_X, shodan_train_y)\n",
    "knnF.fit(shodan_train_np_X, shodan_train_y)\n",
    "logReg.fit(shodan_train_np_X, shodan_train_y)\n",
    "svm_clf.fit(shodan_train_np_X, shodan_train_y)\n",
    "\n",
    "randF_file = 'random_forestml.sav'\n",
    "knnF_file = 'KNN_ml.sav'\n",
    "logReg_file = 'logReg.sav'\n",
    "svm_file = 'svm.sav'\n",
    "\n",
    "joblib.dump(randF, randF_file)\n",
    "joblib.dump(knnF, knnF_file)\n",
    "joblib.dump(logReg, logReg_file)\n",
    "joblib.dump(svm_clf, svm_file)\n",
    "#in order to use the model\n",
    "#run the following code\n",
    "\n",
    "#model = joblib.load(filename)\n",
    "#result = model.predict_proba(ENCODED_INPUT_DATA)"
   ]
  },
  {
   "cell_type": "code",
   "execution_count": null,
   "metadata": {},
   "outputs": [],
   "source": []
  }
 ],
 "metadata": {
  "kernelspec": {
   "display_name": "Python 2",
   "language": "python",
   "name": "python2"
  },
  "language_info": {
   "codemirror_mode": {
    "name": "ipython",
    "version": 2
   },
   "file_extension": ".py",
   "mimetype": "text/x-python",
   "name": "python",
   "nbconvert_exporter": "python",
   "pygments_lexer": "ipython2",
   "version": "2.7.15"
  }
 },
 "nbformat": 4,
 "nbformat_minor": 2
}
