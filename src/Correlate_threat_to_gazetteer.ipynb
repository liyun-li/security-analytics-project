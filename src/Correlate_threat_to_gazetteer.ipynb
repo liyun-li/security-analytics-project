{
 "cells": [
  {
   "cell_type": "code",
   "execution_count": 7,
   "metadata": {
    "scrolled": true
   },
   "outputs": [],
   "source": [
    "import numpy as np\n",
    "from multiprocessing import process as WORKER\n",
    "from pyspark.sql import SparkSession \n",
    "from pyspark.sql.types import *"
   ]
  },
  {
   "cell_type": "code",
   "execution_count": 37,
   "metadata": {},
   "outputs": [
    {
     "name": "stdout",
     "output_type": "stream",
     "text": [
      "root\n",
      " |-- USPS: string (nullable = true)\n",
      " |-- GEOID: integer (nullable = true)\n",
      " |-- ANSICODE: integer (nullable = true)\n",
      " |-- NAME: string (nullable = true)\n",
      " |-- ALAND: long (nullable = true)\n",
      " |-- AWATER: long (nullable = true)\n",
      " |-- ALAND_SQMI: double (nullable = true)\n",
      " |-- AWATER_SQMI: double (nullable = true)\n",
      " |-- INTPTLAT: double (nullable = true)\n",
      " |-- INTPTLONG: double (nullable = true)\n",
      "\n",
      "root\n",
      " |-- ID: integer (nullable = true)\n",
      " |-- LONG: double (nullable = true)\n",
      " |-- LAT: double (nullable = true)\n",
      " |-- COUNTRY: string (nullable = true)\n",
      " |-- COUNTRY_2: string (nullable = true)\n",
      " |-- COUNTRY_FULL: string (nullable = true)\n",
      " |-- CITY: string (nullable = true)\n",
      " |-- ZIP: integer (nullable = true)\n",
      " |-- STATE: string (nullable = true)\n",
      " |-- NA_1: integer (nullable = true)\n",
      " |-- NA_2: integer (nullable = true)\n",
      "\n"
     ]
    }
   ],
   "source": [
    "gazze_file = \"2018_Gaz_counties_national.csv\"\n",
    "threat_loc_file = \"location.csv\"\n",
    "\n",
    "spss = SparkSession.builder\\\n",
    "    .master('local[*]')\\\n",
    "    .appName(\"sec_lab_4\")\\\n",
    "    .getOrCreate()\n",
    "\n",
    "threat_schema = StructType([\n",
    "    StructField('ID', IntegerType()),\n",
    "    StructField('LONG', DoubleType()),\n",
    "    StructField('LAT', DoubleType()),\n",
    "    StructField('COUNTRY', StringType()),\n",
    "    StructField('COUNTRY_2', StringType()),\n",
    "    StructField('COUNTRY_FULL', StringType()),\n",
    "    StructField('CITY', StringType()),\n",
    "    StructField('ZIP', IntegerType()),\n",
    "    StructField('STATE', StringType()),\n",
    "    StructField('NA_1', IntegerType()),\n",
    "    StructField('NA_2', IntegerType()),\n",
    "])\n",
    "\n",
    "\n",
    "ga_sppd = spss.read.csv(gazze_file, inferSchema=True, header = True)\n",
    "loca_sppd = spss.read.csv(threat_loc_file, schema=threat_schema, header=True)\n",
    "ga_sppd.printSchema()\n",
    "loca_sppd.printSchema()"
   ]
  },
  {
   "cell_type": "code",
   "execution_count": 42,
   "metadata": {},
   "outputs": [],
   "source": [
    "def distance(instance1, instance2):\n",
    "    # just in case, if the instances are lists or tuples:\n",
    "    instance1 = np.array(instance1) \n",
    "    instance2 = np.array(instance2)\n",
    "    error = np.square(instance1 - instance2)\n",
    "    return np.sqrt(np.sum(error))"
   ]
  },
  {
   "cell_type": "code",
   "execution_count": 43,
   "metadata": {},
   "outputs": [],
   "source": [
    "def get_neighbors(training_set,  \n",
    "                  test_instance, \n",
    "                  k, \n",
    "                  distance=distance):\n",
    "    \"\"\"\n",
    "    get_neighors calculates a list of the k nearest neighbors\n",
    "    of an instance 'test_instance'.\n",
    "    The list neighbors contains 3-tuples with  \n",
    "    (index, dist, label)\n",
    "    where \n",
    "    index    is the index from the training_set, \n",
    "    dist     is the distance between the test_instance and the \n",
    "             instance training_set[index]\n",
    "    distance is a reference to a function used to calculate the \n",
    "             distances\n",
    "    \"\"\"\n",
    "    distances = []\n",
    "    for index in range(len(training_set)):\n",
    "        dist = distance(test_instance, training_set[index])\n",
    "        distances.append((training_set[index], dist))\n",
    "    distances.sort(key=lambda x: x[1])\n",
    "    neighbors = distances[:k]\n",
    "    return neighbors"
   ]
  },
  {
   "cell_type": "code",
   "execution_count": 44,
   "metadata": {
    "scrolled": false
   },
   "outputs": [
    {
     "name": "stdout",
     "output_type": "stream",
     "text": [
      "[[  33.7081 -117.7596]]\n",
      "neighbors\n",
      "(array([  33.675687, -117.777207]), 0.03688643406456934)\n",
      "(array([  34.196398, -118.261862]), 0.7005012872564816)\n",
      "(array([  33.023604, -116.776117]), 1.1982376998346436)\n"
     ]
    }
   ],
   "source": [
    "ga_pd = ga_sppd.toPandas()\n",
    "threat_pd = loca_sppd.toPandas()\n",
    "test = np.array(threat_pd[['LAT', 'LONG']][:1])\n",
    "train = np.array(ga_pd[['INTPTLAT', 'INTPTLONG']])\n",
    "print(test)\n",
    "print('neighbors')\n",
    "for out in get_neighbors(train, test, 3):\n",
    "    print out"
   ]
  },
  {
   "cell_type": "code",
   "execution_count": null,
   "metadata": {},
   "outputs": [],
   "source": []
  }
 ],
 "metadata": {
  "kernelspec": {
   "display_name": "Python 2",
   "language": "python",
   "name": "python2"
  }
 },
 "nbformat": 4,
 "nbformat_minor": 2
}
